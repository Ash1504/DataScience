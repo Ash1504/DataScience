{
 "cells": [
  {
   "cell_type": "code",
   "execution_count": 1,
   "metadata": {},
   "outputs": [],
   "source": [
    "#Predicting Movie Genres using NLP – An Awesome Introduction to Multi-Label Classification\n"
   ]
  },
  {
   "cell_type": "code",
   "execution_count": 1,
   "metadata": {},
   "outputs": [],
   "source": [
    "import pandas as pd\n",
    "import numpy as np\n",
    "import nltk\n",
    "import matplotlib.pyplot as plt\n",
    "import seaborn as sns\n",
    "%matplotlib inline"
   ]
  },
  {
   "cell_type": "code",
   "execution_count": 2,
   "metadata": {},
   "outputs": [],
   "source": [
    "meta = pd.read_csv('movie.metadata.tsv',sep = '\\t',header=None)"
   ]
  },
  {
   "cell_type": "code",
   "execution_count": 3,
   "metadata": {},
   "outputs": [
    {
     "data": {
      "text/html": [
       "<div>\n",
       "<style scoped>\n",
       "    .dataframe tbody tr th:only-of-type {\n",
       "        vertical-align: middle;\n",
       "    }\n",
       "\n",
       "    .dataframe tbody tr th {\n",
       "        vertical-align: top;\n",
       "    }\n",
       "\n",
       "    .dataframe thead th {\n",
       "        text-align: right;\n",
       "    }\n",
       "</style>\n",
       "<table border=\"1\" class=\"dataframe\">\n",
       "  <thead>\n",
       "    <tr style=\"text-align: right;\">\n",
       "      <th></th>\n",
       "      <th>0</th>\n",
       "      <th>1</th>\n",
       "      <th>2</th>\n",
       "      <th>3</th>\n",
       "      <th>4</th>\n",
       "      <th>5</th>\n",
       "      <th>6</th>\n",
       "      <th>7</th>\n",
       "      <th>8</th>\n",
       "    </tr>\n",
       "  </thead>\n",
       "  <tbody>\n",
       "    <tr>\n",
       "      <th>0</th>\n",
       "      <td>975900</td>\n",
       "      <td>/m/03vyhn</td>\n",
       "      <td>Ghosts of Mars</td>\n",
       "      <td>2001-08-24</td>\n",
       "      <td>14010832.0</td>\n",
       "      <td>98.0</td>\n",
       "      <td>{\"/m/02h40lc\": \"English Language\"}</td>\n",
       "      <td>{\"/m/09c7w0\": \"United States of America\"}</td>\n",
       "      <td>{\"/m/01jfsb\": \"Thriller\", \"/m/06n90\": \"Science...</td>\n",
       "    </tr>\n",
       "    <tr>\n",
       "      <th>1</th>\n",
       "      <td>3196793</td>\n",
       "      <td>/m/08yl5d</td>\n",
       "      <td>Getting Away with Murder: The JonBenét Ramsey ...</td>\n",
       "      <td>2000-02-16</td>\n",
       "      <td>NaN</td>\n",
       "      <td>95.0</td>\n",
       "      <td>{\"/m/02h40lc\": \"English Language\"}</td>\n",
       "      <td>{\"/m/09c7w0\": \"United States of America\"}</td>\n",
       "      <td>{\"/m/02n4kr\": \"Mystery\", \"/m/03bxz7\": \"Biograp...</td>\n",
       "    </tr>\n",
       "    <tr>\n",
       "      <th>2</th>\n",
       "      <td>28463795</td>\n",
       "      <td>/m/0crgdbh</td>\n",
       "      <td>Brun bitter</td>\n",
       "      <td>1988</td>\n",
       "      <td>NaN</td>\n",
       "      <td>83.0</td>\n",
       "      <td>{\"/m/05f_3\": \"Norwegian Language\"}</td>\n",
       "      <td>{\"/m/05b4w\": \"Norway\"}</td>\n",
       "      <td>{\"/m/0lsxr\": \"Crime Fiction\", \"/m/07s9rl0\": \"D...</td>\n",
       "    </tr>\n",
       "    <tr>\n",
       "      <th>3</th>\n",
       "      <td>9363483</td>\n",
       "      <td>/m/0285_cd</td>\n",
       "      <td>White Of The Eye</td>\n",
       "      <td>1987</td>\n",
       "      <td>NaN</td>\n",
       "      <td>110.0</td>\n",
       "      <td>{\"/m/02h40lc\": \"English Language\"}</td>\n",
       "      <td>{\"/m/07ssc\": \"United Kingdom\"}</td>\n",
       "      <td>{\"/m/01jfsb\": \"Thriller\", \"/m/0glj9q\": \"Erotic...</td>\n",
       "    </tr>\n",
       "    <tr>\n",
       "      <th>4</th>\n",
       "      <td>261236</td>\n",
       "      <td>/m/01mrr1</td>\n",
       "      <td>A Woman in Flames</td>\n",
       "      <td>1983</td>\n",
       "      <td>NaN</td>\n",
       "      <td>106.0</td>\n",
       "      <td>{\"/m/04306rv\": \"German Language\"}</td>\n",
       "      <td>{\"/m/0345h\": \"Germany\"}</td>\n",
       "      <td>{\"/m/07s9rl0\": \"Drama\"}</td>\n",
       "    </tr>\n",
       "  </tbody>\n",
       "</table>\n",
       "</div>"
      ],
      "text/plain": [
       "          0           1                                                  2  \\\n",
       "0    975900   /m/03vyhn                                     Ghosts of Mars   \n",
       "1   3196793   /m/08yl5d  Getting Away with Murder: The JonBenét Ramsey ...   \n",
       "2  28463795  /m/0crgdbh                                        Brun bitter   \n",
       "3   9363483  /m/0285_cd                                   White Of The Eye   \n",
       "4    261236   /m/01mrr1                                  A Woman in Flames   \n",
       "\n",
       "            3           4      5                                   6  \\\n",
       "0  2001-08-24  14010832.0   98.0  {\"/m/02h40lc\": \"English Language\"}   \n",
       "1  2000-02-16         NaN   95.0  {\"/m/02h40lc\": \"English Language\"}   \n",
       "2        1988         NaN   83.0  {\"/m/05f_3\": \"Norwegian Language\"}   \n",
       "3        1987         NaN  110.0  {\"/m/02h40lc\": \"English Language\"}   \n",
       "4        1983         NaN  106.0   {\"/m/04306rv\": \"German Language\"}   \n",
       "\n",
       "                                           7  \\\n",
       "0  {\"/m/09c7w0\": \"United States of America\"}   \n",
       "1  {\"/m/09c7w0\": \"United States of America\"}   \n",
       "2                     {\"/m/05b4w\": \"Norway\"}   \n",
       "3             {\"/m/07ssc\": \"United Kingdom\"}   \n",
       "4                    {\"/m/0345h\": \"Germany\"}   \n",
       "\n",
       "                                                   8  \n",
       "0  {\"/m/01jfsb\": \"Thriller\", \"/m/06n90\": \"Science...  \n",
       "1  {\"/m/02n4kr\": \"Mystery\", \"/m/03bxz7\": \"Biograp...  \n",
       "2  {\"/m/0lsxr\": \"Crime Fiction\", \"/m/07s9rl0\": \"D...  \n",
       "3  {\"/m/01jfsb\": \"Thriller\", \"/m/0glj9q\": \"Erotic...  \n",
       "4                            {\"/m/07s9rl0\": \"Drama\"}  "
      ]
     },
     "execution_count": 3,
     "metadata": {},
     "output_type": "execute_result"
    }
   ],
   "source": [
    "meta.head()"
   ]
  },
  {
   "cell_type": "code",
   "execution_count": 4,
   "metadata": {},
   "outputs": [],
   "source": [
    "#rename columns\n",
    "meta.columns = ['movie_id',1,'movie_name',3,4,5,6,7,'genre']"
   ]
  },
  {
   "cell_type": "code",
   "execution_count": 5,
   "metadata": {},
   "outputs": [
    {
     "name": "stderr",
     "output_type": "stream",
     "text": [
      "42303it [00:02, 16662.57it/s]\n"
     ]
    }
   ],
   "source": [
    "from tqdm import tqdm\n",
    "import csv\n",
    "plots = []\n",
    "\n",
    "with open('plot_summaries.txt','r',encoding=\"utf8\") as file:\n",
    "    data = csv.reader(file, dialect='excel-tab')#  read the text file in csv to separate movie id and plot\n",
    "    for row in tqdm(data):\n",
    "        plots.append(row)\n"
   ]
  },
  {
   "cell_type": "code",
   "execution_count": 7,
   "metadata": {},
   "outputs": [
    {
     "name": "stderr",
     "output_type": "stream",
     "text": [
      "100%|████████████████████████████████| 42303/42303 [00:00<00:00, 782830.40it/s]\n"
     ]
    }
   ],
   "source": [
    "#separating movie is and plot\n",
    "movie_id = []\n",
    "plot = []\n",
    "for i in tqdm(plots):\n",
    "    movie_id.append(i[0])\n",
    "    plot.append(i[1])\n",
    "    "
   ]
  },
  {
   "cell_type": "code",
   "execution_count": 8,
   "metadata": {},
   "outputs": [
    {
     "data": {
      "text/plain": [
       "\"Shlykov, a hard-working taxi driver and Lyosha, a saxophonist, develop a bizarre love-hate relationship, and despite their prejudices, realize they aren't so different after all.\""
      ]
     },
     "execution_count": 8,
     "metadata": {},
     "output_type": "execute_result"
    }
   ],
   "source": [
    "#create df of movie is and plot\n",
    "type(plots)#[0]\n",
    "plot[0]"
   ]
  },
  {
   "cell_type": "code",
   "execution_count": 9,
   "metadata": {},
   "outputs": [],
   "source": [
    "movies = pd.DataFrame({\"movie_id\":movie_id,'plot':plot})"
   ]
  },
  {
   "cell_type": "code",
   "execution_count": 10,
   "metadata": {},
   "outputs": [
    {
     "data": {
      "text/html": [
       "<div>\n",
       "<style scoped>\n",
       "    .dataframe tbody tr th:only-of-type {\n",
       "        vertical-align: middle;\n",
       "    }\n",
       "\n",
       "    .dataframe tbody tr th {\n",
       "        vertical-align: top;\n",
       "    }\n",
       "\n",
       "    .dataframe thead th {\n",
       "        text-align: right;\n",
       "    }\n",
       "</style>\n",
       "<table border=\"1\" class=\"dataframe\">\n",
       "  <thead>\n",
       "    <tr style=\"text-align: right;\">\n",
       "      <th></th>\n",
       "      <th>movie_id</th>\n",
       "      <th>plot</th>\n",
       "    </tr>\n",
       "  </thead>\n",
       "  <tbody>\n",
       "    <tr>\n",
       "      <th>0</th>\n",
       "      <td>23890098</td>\n",
       "      <td>Shlykov, a hard-working taxi driver and Lyosha...</td>\n",
       "    </tr>\n",
       "    <tr>\n",
       "      <th>1</th>\n",
       "      <td>31186339</td>\n",
       "      <td>The nation of Panem consists of a wealthy Capi...</td>\n",
       "    </tr>\n",
       "    <tr>\n",
       "      <th>2</th>\n",
       "      <td>20663735</td>\n",
       "      <td>Poovalli Induchoodan  is sentenced for six yea...</td>\n",
       "    </tr>\n",
       "    <tr>\n",
       "      <th>3</th>\n",
       "      <td>2231378</td>\n",
       "      <td>The Lemon Drop Kid , a New York City swindler,...</td>\n",
       "    </tr>\n",
       "    <tr>\n",
       "      <th>4</th>\n",
       "      <td>595909</td>\n",
       "      <td>Seventh-day Adventist Church pastor Michael Ch...</td>\n",
       "    </tr>\n",
       "  </tbody>\n",
       "</table>\n",
       "</div>"
      ],
      "text/plain": [
       "   movie_id                                               plot\n",
       "0  23890098  Shlykov, a hard-working taxi driver and Lyosha...\n",
       "1  31186339  The nation of Panem consists of a wealthy Capi...\n",
       "2  20663735  Poovalli Induchoodan  is sentenced for six yea...\n",
       "3   2231378  The Lemon Drop Kid , a New York City swindler,...\n",
       "4    595909  Seventh-day Adventist Church pastor Michael Ch..."
      ]
     },
     "execution_count": 10,
     "metadata": {},
     "output_type": "execute_result"
    }
   ],
   "source": [
    "movies.head()"
   ]
  },
  {
   "cell_type": "code",
   "execution_count": 11,
   "metadata": {},
   "outputs": [
    {
     "name": "stdout",
     "output_type": "stream",
     "text": [
      "<class 'pandas.core.frame.DataFrame'>\n",
      "RangeIndex: 42303 entries, 0 to 42302\n",
      "Data columns (total 2 columns):\n",
      "movie_id    42303 non-null object\n",
      "plot        42303 non-null object\n",
      "dtypes: object(2)\n",
      "memory usage: 661.1+ KB\n"
     ]
    }
   ],
   "source": [
    "#movies = pd.merge(movies,meta[['movie_id','movie_name','genre']],on = movie_id)\n",
    "movies.info()\n",
    "#meta.info()"
   ]
  },
  {
   "cell_type": "code",
   "execution_count": 12,
   "metadata": {},
   "outputs": [],
   "source": [
    "#movie id column is int64 in meta df where it is an object in movies\n",
    "#convert movie id column\n",
    "meta['movie_id'] = meta['movie_id'].astype(str)\n"
   ]
  },
  {
   "cell_type": "code",
   "execution_count": 13,
   "metadata": {},
   "outputs": [],
   "source": [
    "movies = pd.merge(movies, meta[['movie_id', 'movie_name', 'genre']], on = 'movie_id')"
   ]
  },
  {
   "cell_type": "code",
   "execution_count": 14,
   "metadata": {},
   "outputs": [
    {
     "data": {
      "text/html": [
       "<div>\n",
       "<style scoped>\n",
       "    .dataframe tbody tr th:only-of-type {\n",
       "        vertical-align: middle;\n",
       "    }\n",
       "\n",
       "    .dataframe tbody tr th {\n",
       "        vertical-align: top;\n",
       "    }\n",
       "\n",
       "    .dataframe thead th {\n",
       "        text-align: right;\n",
       "    }\n",
       "</style>\n",
       "<table border=\"1\" class=\"dataframe\">\n",
       "  <thead>\n",
       "    <tr style=\"text-align: right;\">\n",
       "      <th></th>\n",
       "      <th>movie_id</th>\n",
       "      <th>plot</th>\n",
       "      <th>movie_name</th>\n",
       "      <th>genre</th>\n",
       "    </tr>\n",
       "  </thead>\n",
       "  <tbody>\n",
       "    <tr>\n",
       "      <th>0</th>\n",
       "      <td>23890098</td>\n",
       "      <td>Shlykov, a hard-working taxi driver and Lyosha...</td>\n",
       "      <td>Taxi Blues</td>\n",
       "      <td>{\"/m/07s9rl0\": \"Drama\", \"/m/03q4nz\": \"World ci...</td>\n",
       "    </tr>\n",
       "    <tr>\n",
       "      <th>1</th>\n",
       "      <td>31186339</td>\n",
       "      <td>The nation of Panem consists of a wealthy Capi...</td>\n",
       "      <td>The Hunger Games</td>\n",
       "      <td>{\"/m/03btsm8\": \"Action/Adventure\", \"/m/06n90\":...</td>\n",
       "    </tr>\n",
       "    <tr>\n",
       "      <th>2</th>\n",
       "      <td>20663735</td>\n",
       "      <td>Poovalli Induchoodan  is sentenced for six yea...</td>\n",
       "      <td>Narasimham</td>\n",
       "      <td>{\"/m/04t36\": \"Musical\", \"/m/02kdv5l\": \"Action\"...</td>\n",
       "    </tr>\n",
       "    <tr>\n",
       "      <th>3</th>\n",
       "      <td>2231378</td>\n",
       "      <td>The Lemon Drop Kid , a New York City swindler,...</td>\n",
       "      <td>The Lemon Drop Kid</td>\n",
       "      <td>{\"/m/06qm3\": \"Screwball comedy\", \"/m/01z4y\": \"...</td>\n",
       "    </tr>\n",
       "    <tr>\n",
       "      <th>4</th>\n",
       "      <td>595909</td>\n",
       "      <td>Seventh-day Adventist Church pastor Michael Ch...</td>\n",
       "      <td>A Cry in the Dark</td>\n",
       "      <td>{\"/m/0lsxr\": \"Crime Fiction\", \"/m/07s9rl0\": \"D...</td>\n",
       "    </tr>\n",
       "  </tbody>\n",
       "</table>\n",
       "</div>"
      ],
      "text/plain": [
       "   movie_id                                               plot  \\\n",
       "0  23890098  Shlykov, a hard-working taxi driver and Lyosha...   \n",
       "1  31186339  The nation of Panem consists of a wealthy Capi...   \n",
       "2  20663735  Poovalli Induchoodan  is sentenced for six yea...   \n",
       "3   2231378  The Lemon Drop Kid , a New York City swindler,...   \n",
       "4    595909  Seventh-day Adventist Church pastor Michael Ch...   \n",
       "\n",
       "           movie_name                                              genre  \n",
       "0          Taxi Blues  {\"/m/07s9rl0\": \"Drama\", \"/m/03q4nz\": \"World ci...  \n",
       "1    The Hunger Games  {\"/m/03btsm8\": \"Action/Adventure\", \"/m/06n90\":...  \n",
       "2          Narasimham  {\"/m/04t36\": \"Musical\", \"/m/02kdv5l\": \"Action\"...  \n",
       "3  The Lemon Drop Kid  {\"/m/06qm3\": \"Screwball comedy\", \"/m/01z4y\": \"...  \n",
       "4   A Cry in the Dark  {\"/m/0lsxr\": \"Crime Fiction\", \"/m/07s9rl0\": \"D...  "
      ]
     },
     "execution_count": 14,
     "metadata": {},
     "output_type": "execute_result"
    }
   ],
   "source": [
    "movies.head()"
   ]
  },
  {
   "cell_type": "code",
   "execution_count": 16,
   "metadata": {},
   "outputs": [
    {
     "data": {
      "text/plain": [
       "str"
      ]
     },
     "execution_count": 16,
     "metadata": {},
     "output_type": "execute_result"
    }
   ],
   "source": [
    "type(movies['genre'][0])#thus cant access genre values. Need to convert it into dictionary\n",
    "#movies['genre'][0]"
   ]
  },
  {
   "cell_type": "code",
   "execution_count": 17,
   "metadata": {},
   "outputs": [],
   "source": [
    "import json\n"
   ]
  },
  {
   "cell_type": "code",
   "execution_count": 18,
   "metadata": {},
   "outputs": [
    {
     "data": {
      "text/plain": [
       "['Drama', 'World cinema']"
      ]
     },
     "execution_count": 18,
     "metadata": {},
     "output_type": "execute_result"
    }
   ],
   "source": [
    "list(json.loads(movies['genre'][0]).values())"
   ]
  },
  {
   "cell_type": "code",
   "execution_count": 54,
   "metadata": {},
   "outputs": [],
   "source": [
    "genres = []\n",
    "for i in movies['genre']:\n",
    "    genres.append(list(json.loads(i).values()))\n",
    "    "
   ]
  },
  {
   "cell_type": "code",
   "execution_count": 55,
   "metadata": {},
   "outputs": [],
   "source": [
    "movies['genres_new'] = genres"
   ]
  },
  {
   "cell_type": "code",
   "execution_count": 56,
   "metadata": {},
   "outputs": [
    {
     "data": {
      "text/html": [
       "<div>\n",
       "<style scoped>\n",
       "    .dataframe tbody tr th:only-of-type {\n",
       "        vertical-align: middle;\n",
       "    }\n",
       "\n",
       "    .dataframe tbody tr th {\n",
       "        vertical-align: top;\n",
       "    }\n",
       "\n",
       "    .dataframe thead th {\n",
       "        text-align: right;\n",
       "    }\n",
       "</style>\n",
       "<table border=\"1\" class=\"dataframe\">\n",
       "  <thead>\n",
       "    <tr style=\"text-align: right;\">\n",
       "      <th></th>\n",
       "      <th>movie_id</th>\n",
       "      <th>plot</th>\n",
       "      <th>movie_name</th>\n",
       "      <th>genre</th>\n",
       "      <th>genres_new</th>\n",
       "    </tr>\n",
       "  </thead>\n",
       "  <tbody>\n",
       "    <tr>\n",
       "      <th>0</th>\n",
       "      <td>23890098</td>\n",
       "      <td>Shlykov, a hard-working taxi driver and Lyosha...</td>\n",
       "      <td>Taxi Blues</td>\n",
       "      <td>{\"/m/07s9rl0\": \"Drama\", \"/m/03q4nz\": \"World ci...</td>\n",
       "      <td>[Drama, World cinema]</td>\n",
       "    </tr>\n",
       "    <tr>\n",
       "      <th>1</th>\n",
       "      <td>31186339</td>\n",
       "      <td>The nation of Panem consists of a wealthy Capi...</td>\n",
       "      <td>The Hunger Games</td>\n",
       "      <td>{\"/m/03btsm8\": \"Action/Adventure\", \"/m/06n90\":...</td>\n",
       "      <td>[Action/Adventure, Science Fiction, Action, Dr...</td>\n",
       "    </tr>\n",
       "    <tr>\n",
       "      <th>2</th>\n",
       "      <td>20663735</td>\n",
       "      <td>Poovalli Induchoodan  is sentenced for six yea...</td>\n",
       "      <td>Narasimham</td>\n",
       "      <td>{\"/m/04t36\": \"Musical\", \"/m/02kdv5l\": \"Action\"...</td>\n",
       "      <td>[Musical, Action, Drama, Bollywood]</td>\n",
       "    </tr>\n",
       "    <tr>\n",
       "      <th>3</th>\n",
       "      <td>2231378</td>\n",
       "      <td>The Lemon Drop Kid , a New York City swindler,...</td>\n",
       "      <td>The Lemon Drop Kid</td>\n",
       "      <td>{\"/m/06qm3\": \"Screwball comedy\", \"/m/01z4y\": \"...</td>\n",
       "      <td>[Screwball comedy, Comedy]</td>\n",
       "    </tr>\n",
       "    <tr>\n",
       "      <th>4</th>\n",
       "      <td>595909</td>\n",
       "      <td>Seventh-day Adventist Church pastor Michael Ch...</td>\n",
       "      <td>A Cry in the Dark</td>\n",
       "      <td>{\"/m/0lsxr\": \"Crime Fiction\", \"/m/07s9rl0\": \"D...</td>\n",
       "      <td>[Crime Fiction, Drama, Docudrama, World cinema...</td>\n",
       "    </tr>\n",
       "  </tbody>\n",
       "</table>\n",
       "</div>"
      ],
      "text/plain": [
       "   movie_id                                               plot  \\\n",
       "0  23890098  Shlykov, a hard-working taxi driver and Lyosha...   \n",
       "1  31186339  The nation of Panem consists of a wealthy Capi...   \n",
       "2  20663735  Poovalli Induchoodan  is sentenced for six yea...   \n",
       "3   2231378  The Lemon Drop Kid , a New York City swindler,...   \n",
       "4    595909  Seventh-day Adventist Church pastor Michael Ch...   \n",
       "\n",
       "           movie_name                                              genre  \\\n",
       "0          Taxi Blues  {\"/m/07s9rl0\": \"Drama\", \"/m/03q4nz\": \"World ci...   \n",
       "1    The Hunger Games  {\"/m/03btsm8\": \"Action/Adventure\", \"/m/06n90\":...   \n",
       "2          Narasimham  {\"/m/04t36\": \"Musical\", \"/m/02kdv5l\": \"Action\"...   \n",
       "3  The Lemon Drop Kid  {\"/m/06qm3\": \"Screwball comedy\", \"/m/01z4y\": \"...   \n",
       "4   A Cry in the Dark  {\"/m/0lsxr\": \"Crime Fiction\", \"/m/07s9rl0\": \"D...   \n",
       "\n",
       "                                          genres_new  \n",
       "0                              [Drama, World cinema]  \n",
       "1  [Action/Adventure, Science Fiction, Action, Dr...  \n",
       "2                [Musical, Action, Drama, Bollywood]  \n",
       "3                         [Screwball comedy, Comedy]  \n",
       "4  [Crime Fiction, Drama, Docudrama, World cinema...  "
      ]
     },
     "execution_count": 56,
     "metadata": {},
     "output_type": "execute_result"
    }
   ],
   "source": [
    "movies.head()"
   ]
  },
  {
   "cell_type": "code",
   "execution_count": 22,
   "metadata": {},
   "outputs": [
    {
     "data": {
      "text/html": [
       "<div>\n",
       "<style scoped>\n",
       "    .dataframe tbody tr th:only-of-type {\n",
       "        vertical-align: middle;\n",
       "    }\n",
       "\n",
       "    .dataframe tbody tr th {\n",
       "        vertical-align: top;\n",
       "    }\n",
       "\n",
       "    .dataframe thead th {\n",
       "        text-align: right;\n",
       "    }\n",
       "</style>\n",
       "<table border=\"1\" class=\"dataframe\">\n",
       "  <thead>\n",
       "    <tr style=\"text-align: right;\">\n",
       "      <th></th>\n",
       "      <th>movie_id</th>\n",
       "      <th>plot</th>\n",
       "      <th>movie_name</th>\n",
       "      <th>genre</th>\n",
       "      <th>genres_new</th>\n",
       "    </tr>\n",
       "  </thead>\n",
       "  <tbody>\n",
       "  </tbody>\n",
       "</table>\n",
       "</div>"
      ],
      "text/plain": [
       "Empty DataFrame\n",
       "Columns: [movie_id, plot, movie_name, genre, genres_new]\n",
       "Index: []"
      ]
     },
     "execution_count": 22,
     "metadata": {},
     "output_type": "execute_result"
    }
   ],
   "source": [
    "movies.loc[movies['genres_new'].isnull()==True]"
   ]
  },
  {
   "cell_type": "code",
   "execution_count": 25,
   "metadata": {},
   "outputs": [
    {
     "data": {
      "text/plain": [
       "26     10644072\n",
       "205    26003987\n",
       "249     9734319\n",
       "266    35295429\n",
       "311    34638152\n",
       "Name: movie_id, dtype: object"
      ]
     },
     "execution_count": 25,
     "metadata": {},
     "output_type": "execute_result"
    }
   ],
   "source": [
    "remove = movies[movies['genres_new'].str.len()==0]['movie_id']\n",
    "#remove them\n",
    "remove.head()"
   ]
  },
  {
   "cell_type": "code",
   "execution_count": 57,
   "metadata": {},
   "outputs": [],
   "source": [
    "#movies_new = movies[~movies['genres_new'].str.len()==0]\n",
    "#remove\n",
    "movies_new = movies[~(movies['genres_new'].str.len() == 0)]"
   ]
  },
  {
   "cell_type": "code",
   "execution_count": 58,
   "metadata": {},
   "outputs": [
    {
     "data": {
      "text/html": [
       "<div>\n",
       "<style scoped>\n",
       "    .dataframe tbody tr th:only-of-type {\n",
       "        vertical-align: middle;\n",
       "    }\n",
       "\n",
       "    .dataframe tbody tr th {\n",
       "        vertical-align: top;\n",
       "    }\n",
       "\n",
       "    .dataframe thead th {\n",
       "        text-align: right;\n",
       "    }\n",
       "</style>\n",
       "<table border=\"1\" class=\"dataframe\">\n",
       "  <thead>\n",
       "    <tr style=\"text-align: right;\">\n",
       "      <th></th>\n",
       "      <th>movie_id</th>\n",
       "      <th>plot</th>\n",
       "      <th>movie_name</th>\n",
       "      <th>genre</th>\n",
       "      <th>genres_new</th>\n",
       "    </tr>\n",
       "  </thead>\n",
       "  <tbody>\n",
       "    <tr>\n",
       "      <th>0</th>\n",
       "      <td>23890098</td>\n",
       "      <td>Shlykov, a hard-working taxi driver and Lyosha...</td>\n",
       "      <td>Taxi Blues</td>\n",
       "      <td>{\"/m/07s9rl0\": \"Drama\", \"/m/03q4nz\": \"World ci...</td>\n",
       "      <td>[Drama, World cinema]</td>\n",
       "    </tr>\n",
       "    <tr>\n",
       "      <th>1</th>\n",
       "      <td>31186339</td>\n",
       "      <td>The nation of Panem consists of a wealthy Capi...</td>\n",
       "      <td>The Hunger Games</td>\n",
       "      <td>{\"/m/03btsm8\": \"Action/Adventure\", \"/m/06n90\":...</td>\n",
       "      <td>[Action/Adventure, Science Fiction, Action, Dr...</td>\n",
       "    </tr>\n",
       "    <tr>\n",
       "      <th>2</th>\n",
       "      <td>20663735</td>\n",
       "      <td>Poovalli Induchoodan  is sentenced for six yea...</td>\n",
       "      <td>Narasimham</td>\n",
       "      <td>{\"/m/04t36\": \"Musical\", \"/m/02kdv5l\": \"Action\"...</td>\n",
       "      <td>[Musical, Action, Drama, Bollywood]</td>\n",
       "    </tr>\n",
       "    <tr>\n",
       "      <th>3</th>\n",
       "      <td>2231378</td>\n",
       "      <td>The Lemon Drop Kid , a New York City swindler,...</td>\n",
       "      <td>The Lemon Drop Kid</td>\n",
       "      <td>{\"/m/06qm3\": \"Screwball comedy\", \"/m/01z4y\": \"...</td>\n",
       "      <td>[Screwball comedy, Comedy]</td>\n",
       "    </tr>\n",
       "    <tr>\n",
       "      <th>4</th>\n",
       "      <td>595909</td>\n",
       "      <td>Seventh-day Adventist Church pastor Michael Ch...</td>\n",
       "      <td>A Cry in the Dark</td>\n",
       "      <td>{\"/m/0lsxr\": \"Crime Fiction\", \"/m/07s9rl0\": \"D...</td>\n",
       "      <td>[Crime Fiction, Drama, Docudrama, World cinema...</td>\n",
       "    </tr>\n",
       "    <tr>\n",
       "      <th>5</th>\n",
       "      <td>5272176</td>\n",
       "      <td>The president is on his way to give a speech. ...</td>\n",
       "      <td>End Game</td>\n",
       "      <td>{\"/m/01jfsb\": \"Thriller\", \"/m/03btsm8\": \"Actio...</td>\n",
       "      <td>[Thriller, Action/Adventure, Action, Drama]</td>\n",
       "    </tr>\n",
       "    <tr>\n",
       "      <th>6</th>\n",
       "      <td>1952976</td>\n",
       "      <td>{{plot}} The film opens in 1974, as a young gi...</td>\n",
       "      <td>Dark Water</td>\n",
       "      <td>{\"/m/01jfsb\": \"Thriller\", \"/m/07s9rl0\": \"Drama...</td>\n",
       "      <td>[Thriller, Drama, Horror]</td>\n",
       "    </tr>\n",
       "    <tr>\n",
       "      <th>7</th>\n",
       "      <td>24225279</td>\n",
       "      <td>The story begins with Hannah, a young Jewish t...</td>\n",
       "      <td>Sing</td>\n",
       "      <td>{\"/m/07s9rl0\": \"Drama\", \"/m/02b5_l\": \"Teen\"}</td>\n",
       "      <td>[Drama, Teen]</td>\n",
       "    </tr>\n",
       "    <tr>\n",
       "      <th>8</th>\n",
       "      <td>2462689</td>\n",
       "      <td>Infuriated at being told to write one final co...</td>\n",
       "      <td>Meet John Doe</td>\n",
       "      <td>{\"/m/06cvj\": \"Romantic comedy\", \"/m/0hj3nby\": ...</td>\n",
       "      <td>[Romantic comedy, Media Satire, Americana, Com...</td>\n",
       "    </tr>\n",
       "    <tr>\n",
       "      <th>9</th>\n",
       "      <td>20532852</td>\n",
       "      <td>A line of people  drool at the window of the s...</td>\n",
       "      <td>Destination Meatball</td>\n",
       "      <td>{\"/m/02hmvc\": \"Short Film\", \"/m/0hqxf\": \"Famil...</td>\n",
       "      <td>[Short Film, Family Film, Animation]</td>\n",
       "    </tr>\n",
       "    <tr>\n",
       "      <th>10</th>\n",
       "      <td>15401493</td>\n",
       "      <td>Lola  attempts to gain her father's trust fund...</td>\n",
       "      <td>Husband for Hire</td>\n",
       "      <td>{\"/m/01z4y\": \"Comedy\"}</td>\n",
       "      <td>[Comedy]</td>\n",
       "    </tr>\n",
       "    <tr>\n",
       "      <th>11</th>\n",
       "      <td>18188932</td>\n",
       "      <td>Milan and Goran are two criminals who smuggle ...</td>\n",
       "      <td>Up and Down</td>\n",
       "      <td>{\"/m/0lsxr\": \"Crime Fiction\", \"/m/07s9rl0\": \"D...</td>\n",
       "      <td>[Crime Fiction, Drama, Comedy, World cinema]</td>\n",
       "    </tr>\n",
       "    <tr>\n",
       "      <th>12</th>\n",
       "      <td>2940516</td>\n",
       "      <td>Bumbling pirate crewman  kills his captain aft...</td>\n",
       "      <td>Ghost In The Noonday Sun</td>\n",
       "      <td>{\"/m/0gf28\": \"Parody\", \"/m/01z4y\": \"Comedy\"}</td>\n",
       "      <td>[Parody, Comedy]</td>\n",
       "    </tr>\n",
       "    <tr>\n",
       "      <th>13</th>\n",
       "      <td>1335380</td>\n",
       "      <td>The film is based on the events that happened ...</td>\n",
       "      <td>Exodus</td>\n",
       "      <td>{\"/m/082gq\": \"War film\", \"/m/06l3bl\": \"Epic\", ...</td>\n",
       "      <td>[War film, Epic, Action/Adventure, Period piec...</td>\n",
       "    </tr>\n",
       "    <tr>\n",
       "      <th>14</th>\n",
       "      <td>1480747</td>\n",
       "      <td>{{plot}} Following the sudden death of Kid's f...</td>\n",
       "      <td>House Party 2</td>\n",
       "      <td>{\"/m/01q03\": \"Cult\", \"/m/01j1n2\": \"Coming of a...</td>\n",
       "      <td>[Cult, Coming of age, Comedy, Teen]</td>\n",
       "    </tr>\n",
       "    <tr>\n",
       "      <th>15</th>\n",
       "      <td>24448645</td>\n",
       "      <td>Despite Lucy's reservations, she agrees to her...</td>\n",
       "      <td>Forest of the Damned 2</td>\n",
       "      <td>{\"/m/03npn\": \"Horror\"}</td>\n",
       "      <td>[Horror]</td>\n",
       "    </tr>\n",
       "    <tr>\n",
       "      <th>16</th>\n",
       "      <td>15072401</td>\n",
       "      <td>Alan Colby, heir to a vast fortune, reappears ...</td>\n",
       "      <td>Charlie Chan's Secret</td>\n",
       "      <td>{\"/m/01jfsb\": \"Thriller\", \"/m/02n4kr\": \"Myster...</td>\n",
       "      <td>[Thriller, Mystery, Comedy film, Crime Fiction...</td>\n",
       "    </tr>\n",
       "    <tr>\n",
       "      <th>17</th>\n",
       "      <td>4018288</td>\n",
       "      <td>Debbie's favorite band is Dream Street, and he...</td>\n",
       "      <td>The Biggest Fan</td>\n",
       "      <td>{\"/m/07s9rl0\": \"Drama\"}</td>\n",
       "      <td>[Drama]</td>\n",
       "    </tr>\n",
       "    <tr>\n",
       "      <th>18</th>\n",
       "      <td>4596602</td>\n",
       "      <td>Ashes to Ashes is set in London, England. The ...</td>\n",
       "      <td>Ashes to Ashes</td>\n",
       "      <td>{\"/m/01jfsb\": \"Thriller\", \"/m/0lsxr\": \"Crime F...</td>\n",
       "      <td>[Thriller, Crime Fiction, Indie, Martial Arts ...</td>\n",
       "    </tr>\n",
       "    <tr>\n",
       "      <th>19</th>\n",
       "      <td>15224586</td>\n",
       "      <td>The film follows the experience of Vietnamese ...</td>\n",
       "      <td>Green Dragon</td>\n",
       "      <td>{\"/m/04xvlr\": \"Period piece\", \"/m/07s9rl0\": \"D...</td>\n",
       "      <td>[Period piece, Drama, Indie]</td>\n",
       "    </tr>\n",
       "    <tr>\n",
       "      <th>20</th>\n",
       "      <td>15585766</td>\n",
       "      <td>Three friends are droving cattle in Australia ...</td>\n",
       "      <td>The Rats of Tobruk</td>\n",
       "      <td>{\"/m/07s9rl0\": \"Drama\", \"/m/082gq\": \"War film\"}</td>\n",
       "      <td>[Drama, War film]</td>\n",
       "    </tr>\n",
       "    <tr>\n",
       "      <th>21</th>\n",
       "      <td>1760737</td>\n",
       "      <td>Set in a lonely city on a rainy night, the fil...</td>\n",
       "      <td>Red's Dream</td>\n",
       "      <td>{\"/m/01zhp\": \"Computer Animation\", \"/m/02hmvc\"...</td>\n",
       "      <td>[Computer Animation, Short Film, Family Film, ...</td>\n",
       "    </tr>\n",
       "    <tr>\n",
       "      <th>22</th>\n",
       "      <td>29062594</td>\n",
       "      <td>A group of teenagers at Catholic boarding scho...</td>\n",
       "      <td>A la salida nos vemos</td>\n",
       "      <td>{\"/m/07s9rl0\": \"Drama\"}</td>\n",
       "      <td>[Drama]</td>\n",
       "    </tr>\n",
       "    <tr>\n",
       "      <th>23</th>\n",
       "      <td>29326153</td>\n",
       "      <td>The film follows the lives of several West Poi...</td>\n",
       "      <td>Class of '61</td>\n",
       "      <td>{\"/m/02kdv5l\": \"Action\", \"/m/07s9rl0\": \"Drama\"...</td>\n",
       "      <td>[Action, Drama, Adventure]</td>\n",
       "    </tr>\n",
       "    <tr>\n",
       "      <th>24</th>\n",
       "      <td>9252321</td>\n",
       "      <td>This story of a Zulu family is a composite sto...</td>\n",
       "      <td>Come Back, Africa</td>\n",
       "      <td>{\"/m/07s9rl0\": \"Drama\", \"/m/0jtdp\": \"Documenta...</td>\n",
       "      <td>[Drama, Documentary]</td>\n",
       "    </tr>\n",
       "    <tr>\n",
       "      <th>25</th>\n",
       "      <td>8388648</td>\n",
       "      <td>The film opens with Madhav  and Sreenu  playin...</td>\n",
       "      <td>Nee Sneham</td>\n",
       "      <td>{\"/m/07s9rl0\": \"Drama\"}</td>\n",
       "      <td>[Drama]</td>\n",
       "    </tr>\n",
       "    <tr>\n",
       "      <th>27</th>\n",
       "      <td>13455076</td>\n",
       "      <td>The Stooges play three sets of identical tripl...</td>\n",
       "      <td>A Merry Mixup</td>\n",
       "      <td>{\"/m/02hmvc\": \"Short Film\", \"/m/01z4y\": \"Comed...</td>\n",
       "      <td>[Short Film, Comedy, Black-and-white]</td>\n",
       "    </tr>\n",
       "    <tr>\n",
       "      <th>28</th>\n",
       "      <td>33269085</td>\n",
       "      <td>Ranchhod Rai Patel  is an egotistical and arro...</td>\n",
       "      <td>Kehtaa Hai Dil Baar Baar</td>\n",
       "      <td>{\"/m/02l7c8\": \"Romance Film\", \"/m/05p553\": \"Co...</td>\n",
       "      <td>[Romance Film, Comedy film]</td>\n",
       "    </tr>\n",
       "    <tr>\n",
       "      <th>29</th>\n",
       "      <td>2254491</td>\n",
       "      <td>Preetam , a struggling cartoonist, meets Anita...</td>\n",
       "      <td>Mr. &amp; Mrs. '55</td>\n",
       "      <td>{\"/m/04t36\": \"Musical\", \"/m/02l7c8\": \"Romance ...</td>\n",
       "      <td>[Musical, Romance Film, Comedy, Bollywood]</td>\n",
       "    </tr>\n",
       "    <tr>\n",
       "      <th>30</th>\n",
       "      <td>447194</td>\n",
       "      <td>Samson, a Hebrew placed under Nazirite vows fr...</td>\n",
       "      <td>Samson and Delilah</td>\n",
       "      <td>{\"/m/03g3w\": \"History\", \"/m/02l7c8\": \"Romance ...</td>\n",
       "      <td>[History, Romance Film, Action, Drama, Adventure]</td>\n",
       "    </tr>\n",
       "    <tr>\n",
       "      <th>...</th>\n",
       "      <td>...</td>\n",
       "      <td>...</td>\n",
       "      <td>...</td>\n",
       "      <td>...</td>\n",
       "      <td>...</td>\n",
       "    </tr>\n",
       "    <tr>\n",
       "      <th>42174</th>\n",
       "      <td>277160</td>\n",
       "      <td>Virginia \"Gin\" Baker  is an investigator for W...</td>\n",
       "      <td>Entrapment</td>\n",
       "      <td>{\"/m/03btsm8\": \"Action/Adventure\", \"/m/02wtdps...</td>\n",
       "      <td>[Action/Adventure, Crime Thriller, Action, Cri...</td>\n",
       "    </tr>\n",
       "    <tr>\n",
       "      <th>42175</th>\n",
       "      <td>36057885</td>\n",
       "      <td>Raghu ([[Prabhu , a womaniser, is married to L...</td>\n",
       "      <td>Uthama Purushan</td>\n",
       "      <td>{\"/m/07s9rl0\": \"Drama\"}</td>\n",
       "      <td>[Drama]</td>\n",
       "    </tr>\n",
       "    <tr>\n",
       "      <th>42176</th>\n",
       "      <td>12118772</td>\n",
       "      <td>Kidstuff  has been asked by the police to inve...</td>\n",
       "      <td>Lucky Stars Go Places</td>\n",
       "      <td>{\"/m/01z4y\": \"Comedy\", \"/m/0gw5qqq\": \"Chinese ...</td>\n",
       "      <td>[Comedy, Chinese Movies]</td>\n",
       "    </tr>\n",
       "    <tr>\n",
       "      <th>42177</th>\n",
       "      <td>20402406</td>\n",
       "      <td>In the 13th century, three women accused of wi...</td>\n",
       "      <td>Season of the Witch</td>\n",
       "      <td>{\"/m/01jfsb\": \"Thriller\", \"/m/06n90\": \"Science...</td>\n",
       "      <td>[Thriller, Science Fiction, Adventure, Superna...</td>\n",
       "    </tr>\n",
       "    <tr>\n",
       "      <th>42178</th>\n",
       "      <td>24327307</td>\n",
       "      <td>This mythological film features the antics of ...</td>\n",
       "      <td>Sri Krishna Leelalu</td>\n",
       "      <td>{\"/m/04t36\": \"Musical\", \"/m/07s9rl0\": \"Drama\",...</td>\n",
       "      <td>[Musical, Drama, Family Film]</td>\n",
       "    </tr>\n",
       "    <tr>\n",
       "      <th>42179</th>\n",
       "      <td>27858729</td>\n",
       "      <td>Count Vertigo hires Merlyn to assassinate Prin...</td>\n",
       "      <td>DC Showcase: Green Arrow</td>\n",
       "      <td>{\"/m/02hmvc\": \"Short Film\"}</td>\n",
       "      <td>[Short Film]</td>\n",
       "    </tr>\n",
       "    <tr>\n",
       "      <th>42180</th>\n",
       "      <td>17736697</td>\n",
       "      <td>Paula Eastman  is a Hollywood actress with an ...</td>\n",
       "      <td>Torch Song</td>\n",
       "      <td>{\"/m/07s9rl0\": \"Drama\"}</td>\n",
       "      <td>[Drama]</td>\n",
       "    </tr>\n",
       "    <tr>\n",
       "      <th>42181</th>\n",
       "      <td>22762373</td>\n",
       "      <td>Sakthi is a spoiled rich kid, with his mother ...</td>\n",
       "      <td>Unakkaga Ellam Unakkaga</td>\n",
       "      <td>{\"/m/06cvj\": \"Romantic comedy\"}</td>\n",
       "      <td>[Romantic comedy]</td>\n",
       "    </tr>\n",
       "    <tr>\n",
       "      <th>42182</th>\n",
       "      <td>29380772</td>\n",
       "      <td>A music group go to stay at the childhood home...</td>\n",
       "      <td>The Ghost Goes Gear</td>\n",
       "      <td>{\"/m/04t36\": \"Musical\", \"/m/03q4nz\": \"World ci...</td>\n",
       "      <td>[Musical, World cinema]</td>\n",
       "    </tr>\n",
       "    <tr>\n",
       "      <th>42183</th>\n",
       "      <td>8355009</td>\n",
       "      <td>The movie features pro-Chávez and anti-Chávez ...</td>\n",
       "      <td>¿¡Revolución!?</td>\n",
       "      <td>{\"/m/0jtdp\": \"Documentary\"}</td>\n",
       "      <td>[Documentary]</td>\n",
       "    </tr>\n",
       "    <tr>\n",
       "      <th>42184</th>\n",
       "      <td>1585815</td>\n",
       "      <td>The first half of the film is told in a non-co...</td>\n",
       "      <td>Yellow Hair 2</td>\n",
       "      <td>{\"/m/0hn10\": \"LGBT\", \"/m/01jfsb\": \"Thriller\", ...</td>\n",
       "      <td>[LGBT, Thriller, Erotic Drama, Drama, Erotica]</td>\n",
       "    </tr>\n",
       "    <tr>\n",
       "      <th>42185</th>\n",
       "      <td>677389</td>\n",
       "      <td>Dr. Sullivan Travis   is a wealthy Dallas gyne...</td>\n",
       "      <td>Dr. T &amp; the Women</td>\n",
       "      <td>{\"/m/06cvj\": \"Romantic comedy\", \"/m/0hj3n0w\": ...</td>\n",
       "      <td>[Romantic comedy, Ensemble Film, Comedy of man...</td>\n",
       "    </tr>\n",
       "    <tr>\n",
       "      <th>42186</th>\n",
       "      <td>8605430</td>\n",
       "      <td>The story develops around the evolution of Tit...</td>\n",
       "      <td>Titli</td>\n",
       "      <td>{\"/m/07s9rl0\": \"Drama\", \"/m/02n4lw\": \"Art film\"}</td>\n",
       "      <td>[Drama, Art film]</td>\n",
       "    </tr>\n",
       "    <tr>\n",
       "      <th>42187</th>\n",
       "      <td>27978238</td>\n",
       "      <td>In 1864, Union army officer Capt. John Hayes i...</td>\n",
       "      <td>Westbound</td>\n",
       "      <td>{\"/m/0hfjk\": \"Western\"}</td>\n",
       "      <td>[Western]</td>\n",
       "    </tr>\n",
       "    <tr>\n",
       "      <th>42188</th>\n",
       "      <td>21972773</td>\n",
       "      <td>The film revolves around Nandhan , a Lankan yo...</td>\n",
       "      <td>Guiness Vision</td>\n",
       "      <td>{\"/m/02kdv5l\": \"Action\"}</td>\n",
       "      <td>[Action]</td>\n",
       "    </tr>\n",
       "    <tr>\n",
       "      <th>42189</th>\n",
       "      <td>25758881</td>\n",
       "      <td>The story, set in late 1941, follows Los Angel...</td>\n",
       "      <td>Little Tokyo, U.S.A.</td>\n",
       "      <td>{\"/m/02kdv5l\": \"Action\", \"/m/07s9rl0\": \"Drama\"}</td>\n",
       "      <td>[Action, Drama]</td>\n",
       "    </tr>\n",
       "    <tr>\n",
       "      <th>42190</th>\n",
       "      <td>4913923</td>\n",
       "      <td>In Northern Norway during the 1860s, a little ...</td>\n",
       "      <td>I Am Dina</td>\n",
       "      <td>{\"/m/04xvlr\": \"Period piece\", \"/m/07s9rl0\": \"D...</td>\n",
       "      <td>[Period piece, Drama, Indie, World cinema]</td>\n",
       "    </tr>\n",
       "    <tr>\n",
       "      <th>42191</th>\n",
       "      <td>24318106</td>\n",
       "      <td>Samy , a Brahmin boy and his friend Karuna  gr...</td>\n",
       "      <td>Drogi</td>\n",
       "      <td>{\"/m/02kdv5l\": \"Action\", \"/m/07s9rl0\": \"Drama\"}</td>\n",
       "      <td>[Action, Drama]</td>\n",
       "    </tr>\n",
       "    <tr>\n",
       "      <th>42192</th>\n",
       "      <td>11957333</td>\n",
       "      <td>Clarence Mumford is a Robitussin addict living...</td>\n",
       "      <td>Ninja Bachelor Party</td>\n",
       "      <td>{\"/m/0gf28\": \"Parody\", \"/m/0219x_\": \"Indie\", \"...</td>\n",
       "      <td>[Parody, Indie, Absurdism, Action Comedy, Shor...</td>\n",
       "    </tr>\n",
       "    <tr>\n",
       "      <th>42193</th>\n",
       "      <td>26261438</td>\n",
       "      <td>While drinking alone one night and reminiscing...</td>\n",
       "      <td>Outlaw of Gor</td>\n",
       "      <td>{\"/m/06n90\": \"Science Fiction\", \"/m/0hj3n2k\": ...</td>\n",
       "      <td>[Science Fiction, Fantasy Adventure, Adventure]</td>\n",
       "    </tr>\n",
       "    <tr>\n",
       "      <th>42194</th>\n",
       "      <td>871575</td>\n",
       "      <td>{{Plot}}  In an alternate universe, people are...</td>\n",
       "      <td>Avalon</td>\n",
       "      <td>{\"/m/01jfsb\": \"Thriller\", \"/m/06n90\": \"Science...</td>\n",
       "      <td>[Thriller, Science Fiction, Japanese Movies, W...</td>\n",
       "    </tr>\n",
       "    <tr>\n",
       "      <th>42195</th>\n",
       "      <td>17208834</td>\n",
       "      <td>A high school prom in Georgia is unexpectedly ...</td>\n",
       "      <td>Dance of the Dead</td>\n",
       "      <td>{\"/m/0jb4p32\": \"Zombie Film\", \"/m/03npn\": \"Hor...</td>\n",
       "      <td>[Zombie Film, Horror, Indie, Teen, Comedy]</td>\n",
       "    </tr>\n",
       "    <tr>\n",
       "      <th>42196</th>\n",
       "      <td>29046736</td>\n",
       "      <td>Lucy  is working as a dancer in a sleazy strip...</td>\n",
       "      <td>I Don't Want to Be Born</td>\n",
       "      <td>{\"/m/03npn\": \"Horror\"}</td>\n",
       "      <td>[Horror]</td>\n",
       "    </tr>\n",
       "    <tr>\n",
       "      <th>42197</th>\n",
       "      <td>30352708</td>\n",
       "      <td>Twenty-something Eun-mo listens to a taxi driv...</td>\n",
       "      <td>Paju</td>\n",
       "      <td>{\"/m/068d7h\": \"Romantic drama\", \"/m/02l7c8\": \"...</td>\n",
       "      <td>[Romantic drama, Romance Film, Drama, World ci...</td>\n",
       "    </tr>\n",
       "    <tr>\n",
       "      <th>42198</th>\n",
       "      <td>2867597</td>\n",
       "      <td>An attempt to bring the famed \"Mr. Bill\" clay ...</td>\n",
       "      <td>Mr. Bill's Real Life Adventures</td>\n",
       "      <td>{\"/m/01z4y\": \"Comedy\", \"/m/09q17\": \"Slapstick\"}</td>\n",
       "      <td>[Comedy, Slapstick]</td>\n",
       "    </tr>\n",
       "    <tr>\n",
       "      <th>42199</th>\n",
       "      <td>34808485</td>\n",
       "      <td>The story is about Reema , a young Muslim scho...</td>\n",
       "      <td>Oomakkuyil Padumbol</td>\n",
       "      <td>{\"/m/0bj8m2\": \"Children's\"}</td>\n",
       "      <td>[Children's]</td>\n",
       "    </tr>\n",
       "    <tr>\n",
       "      <th>42200</th>\n",
       "      <td>1096473</td>\n",
       "      <td>In 1928 Hollywood, director Leo Andreyev  look...</td>\n",
       "      <td>The Last Command</td>\n",
       "      <td>{\"/m/06ppq\": \"Silent film\", \"/m/0219x_\": \"Indi...</td>\n",
       "      <td>[Silent film, Indie, Black-and-white, Period p...</td>\n",
       "    </tr>\n",
       "    <tr>\n",
       "      <th>42201</th>\n",
       "      <td>35102018</td>\n",
       "      <td>American Luthier focuses on Randy Parsons’ tra...</td>\n",
       "      <td>Randy Parsons: American Luthier</td>\n",
       "      <td>{\"/m/02hmvc\": \"Short Film\", \"/m/04rlf\": \"Music...</td>\n",
       "      <td>[Short Film, Music, Biographical film, Documen...</td>\n",
       "    </tr>\n",
       "    <tr>\n",
       "      <th>42202</th>\n",
       "      <td>8628195</td>\n",
       "      <td>Abdur Rehman Khan , a middle-aged dry fruit se...</td>\n",
       "      <td>Kabuliwala</td>\n",
       "      <td>{\"/m/07s9rl0\": \"Drama\"}</td>\n",
       "      <td>[Drama]</td>\n",
       "    </tr>\n",
       "    <tr>\n",
       "      <th>42203</th>\n",
       "      <td>6040782</td>\n",
       "      <td>1940 - Operation Dynamo has just taken place. ...</td>\n",
       "      <td>Dad's Army</td>\n",
       "      <td>{\"/m/01z4y\": \"Comedy\"}</td>\n",
       "      <td>[Comedy]</td>\n",
       "    </tr>\n",
       "  </tbody>\n",
       "</table>\n",
       "<p>41793 rows × 5 columns</p>\n",
       "</div>"
      ],
      "text/plain": [
       "       movie_id                                               plot  \\\n",
       "0      23890098  Shlykov, a hard-working taxi driver and Lyosha...   \n",
       "1      31186339  The nation of Panem consists of a wealthy Capi...   \n",
       "2      20663735  Poovalli Induchoodan  is sentenced for six yea...   \n",
       "3       2231378  The Lemon Drop Kid , a New York City swindler,...   \n",
       "4        595909  Seventh-day Adventist Church pastor Michael Ch...   \n",
       "5       5272176  The president is on his way to give a speech. ...   \n",
       "6       1952976  {{plot}} The film opens in 1974, as a young gi...   \n",
       "7      24225279  The story begins with Hannah, a young Jewish t...   \n",
       "8       2462689  Infuriated at being told to write one final co...   \n",
       "9      20532852  A line of people  drool at the window of the s...   \n",
       "10     15401493  Lola  attempts to gain her father's trust fund...   \n",
       "11     18188932  Milan and Goran are two criminals who smuggle ...   \n",
       "12      2940516  Bumbling pirate crewman  kills his captain aft...   \n",
       "13      1335380  The film is based on the events that happened ...   \n",
       "14      1480747  {{plot}} Following the sudden death of Kid's f...   \n",
       "15     24448645  Despite Lucy's reservations, she agrees to her...   \n",
       "16     15072401  Alan Colby, heir to a vast fortune, reappears ...   \n",
       "17      4018288  Debbie's favorite band is Dream Street, and he...   \n",
       "18      4596602  Ashes to Ashes is set in London, England. The ...   \n",
       "19     15224586  The film follows the experience of Vietnamese ...   \n",
       "20     15585766  Three friends are droving cattle in Australia ...   \n",
       "21      1760737  Set in a lonely city on a rainy night, the fil...   \n",
       "22     29062594  A group of teenagers at Catholic boarding scho...   \n",
       "23     29326153  The film follows the lives of several West Poi...   \n",
       "24      9252321  This story of a Zulu family is a composite sto...   \n",
       "25      8388648  The film opens with Madhav  and Sreenu  playin...   \n",
       "27     13455076  The Stooges play three sets of identical tripl...   \n",
       "28     33269085  Ranchhod Rai Patel  is an egotistical and arro...   \n",
       "29      2254491  Preetam , a struggling cartoonist, meets Anita...   \n",
       "30       447194  Samson, a Hebrew placed under Nazirite vows fr...   \n",
       "...         ...                                                ...   \n",
       "42174    277160  Virginia \"Gin\" Baker  is an investigator for W...   \n",
       "42175  36057885  Raghu ([[Prabhu , a womaniser, is married to L...   \n",
       "42176  12118772  Kidstuff  has been asked by the police to inve...   \n",
       "42177  20402406  In the 13th century, three women accused of wi...   \n",
       "42178  24327307  This mythological film features the antics of ...   \n",
       "42179  27858729  Count Vertigo hires Merlyn to assassinate Prin...   \n",
       "42180  17736697  Paula Eastman  is a Hollywood actress with an ...   \n",
       "42181  22762373  Sakthi is a spoiled rich kid, with his mother ...   \n",
       "42182  29380772  A music group go to stay at the childhood home...   \n",
       "42183   8355009  The movie features pro-Chávez and anti-Chávez ...   \n",
       "42184   1585815  The first half of the film is told in a non-co...   \n",
       "42185    677389  Dr. Sullivan Travis   is a wealthy Dallas gyne...   \n",
       "42186   8605430  The story develops around the evolution of Tit...   \n",
       "42187  27978238  In 1864, Union army officer Capt. John Hayes i...   \n",
       "42188  21972773  The film revolves around Nandhan , a Lankan yo...   \n",
       "42189  25758881  The story, set in late 1941, follows Los Angel...   \n",
       "42190   4913923  In Northern Norway during the 1860s, a little ...   \n",
       "42191  24318106  Samy , a Brahmin boy and his friend Karuna  gr...   \n",
       "42192  11957333  Clarence Mumford is a Robitussin addict living...   \n",
       "42193  26261438  While drinking alone one night and reminiscing...   \n",
       "42194    871575  {{Plot}}  In an alternate universe, people are...   \n",
       "42195  17208834  A high school prom in Georgia is unexpectedly ...   \n",
       "42196  29046736  Lucy  is working as a dancer in a sleazy strip...   \n",
       "42197  30352708  Twenty-something Eun-mo listens to a taxi driv...   \n",
       "42198   2867597  An attempt to bring the famed \"Mr. Bill\" clay ...   \n",
       "42199  34808485  The story is about Reema , a young Muslim scho...   \n",
       "42200   1096473  In 1928 Hollywood, director Leo Andreyev  look...   \n",
       "42201  35102018  American Luthier focuses on Randy Parsons’ tra...   \n",
       "42202   8628195  Abdur Rehman Khan , a middle-aged dry fruit se...   \n",
       "42203   6040782  1940 - Operation Dynamo has just taken place. ...   \n",
       "\n",
       "                            movie_name  \\\n",
       "0                           Taxi Blues   \n",
       "1                     The Hunger Games   \n",
       "2                           Narasimham   \n",
       "3                   The Lemon Drop Kid   \n",
       "4                    A Cry in the Dark   \n",
       "5                             End Game   \n",
       "6                           Dark Water   \n",
       "7                                 Sing   \n",
       "8                        Meet John Doe   \n",
       "9                 Destination Meatball   \n",
       "10                    Husband for Hire   \n",
       "11                         Up and Down   \n",
       "12            Ghost In The Noonday Sun   \n",
       "13                              Exodus   \n",
       "14                       House Party 2   \n",
       "15              Forest of the Damned 2   \n",
       "16               Charlie Chan's Secret   \n",
       "17                     The Biggest Fan   \n",
       "18                      Ashes to Ashes   \n",
       "19                        Green Dragon   \n",
       "20                  The Rats of Tobruk   \n",
       "21                         Red's Dream   \n",
       "22               A la salida nos vemos   \n",
       "23                        Class of '61   \n",
       "24                   Come Back, Africa   \n",
       "25                          Nee Sneham   \n",
       "27                       A Merry Mixup   \n",
       "28            Kehtaa Hai Dil Baar Baar   \n",
       "29                      Mr. & Mrs. '55   \n",
       "30                  Samson and Delilah   \n",
       "...                                ...   \n",
       "42174                       Entrapment   \n",
       "42175                  Uthama Purushan   \n",
       "42176            Lucky Stars Go Places   \n",
       "42177              Season of the Witch   \n",
       "42178              Sri Krishna Leelalu   \n",
       "42179         DC Showcase: Green Arrow   \n",
       "42180                       Torch Song   \n",
       "42181          Unakkaga Ellam Unakkaga   \n",
       "42182              The Ghost Goes Gear   \n",
       "42183                   ¿¡Revolución!?   \n",
       "42184                    Yellow Hair 2   \n",
       "42185                Dr. T & the Women   \n",
       "42186                            Titli   \n",
       "42187                        Westbound   \n",
       "42188                   Guiness Vision   \n",
       "42189             Little Tokyo, U.S.A.   \n",
       "42190                        I Am Dina   \n",
       "42191                            Drogi   \n",
       "42192             Ninja Bachelor Party   \n",
       "42193                    Outlaw of Gor   \n",
       "42194                           Avalon   \n",
       "42195                Dance of the Dead   \n",
       "42196          I Don't Want to Be Born   \n",
       "42197                             Paju   \n",
       "42198  Mr. Bill's Real Life Adventures   \n",
       "42199              Oomakkuyil Padumbol   \n",
       "42200                 The Last Command   \n",
       "42201  Randy Parsons: American Luthier   \n",
       "42202                       Kabuliwala   \n",
       "42203                       Dad's Army   \n",
       "\n",
       "                                                   genre  \\\n",
       "0      {\"/m/07s9rl0\": \"Drama\", \"/m/03q4nz\": \"World ci...   \n",
       "1      {\"/m/03btsm8\": \"Action/Adventure\", \"/m/06n90\":...   \n",
       "2      {\"/m/04t36\": \"Musical\", \"/m/02kdv5l\": \"Action\"...   \n",
       "3      {\"/m/06qm3\": \"Screwball comedy\", \"/m/01z4y\": \"...   \n",
       "4      {\"/m/0lsxr\": \"Crime Fiction\", \"/m/07s9rl0\": \"D...   \n",
       "5      {\"/m/01jfsb\": \"Thriller\", \"/m/03btsm8\": \"Actio...   \n",
       "6      {\"/m/01jfsb\": \"Thriller\", \"/m/07s9rl0\": \"Drama...   \n",
       "7           {\"/m/07s9rl0\": \"Drama\", \"/m/02b5_l\": \"Teen\"}   \n",
       "8      {\"/m/06cvj\": \"Romantic comedy\", \"/m/0hj3nby\": ...   \n",
       "9      {\"/m/02hmvc\": \"Short Film\", \"/m/0hqxf\": \"Famil...   \n",
       "10                                {\"/m/01z4y\": \"Comedy\"}   \n",
       "11     {\"/m/0lsxr\": \"Crime Fiction\", \"/m/07s9rl0\": \"D...   \n",
       "12          {\"/m/0gf28\": \"Parody\", \"/m/01z4y\": \"Comedy\"}   \n",
       "13     {\"/m/082gq\": \"War film\", \"/m/06l3bl\": \"Epic\", ...   \n",
       "14     {\"/m/01q03\": \"Cult\", \"/m/01j1n2\": \"Coming of a...   \n",
       "15                                {\"/m/03npn\": \"Horror\"}   \n",
       "16     {\"/m/01jfsb\": \"Thriller\", \"/m/02n4kr\": \"Myster...   \n",
       "17                               {\"/m/07s9rl0\": \"Drama\"}   \n",
       "18     {\"/m/01jfsb\": \"Thriller\", \"/m/0lsxr\": \"Crime F...   \n",
       "19     {\"/m/04xvlr\": \"Period piece\", \"/m/07s9rl0\": \"D...   \n",
       "20       {\"/m/07s9rl0\": \"Drama\", \"/m/082gq\": \"War film\"}   \n",
       "21     {\"/m/01zhp\": \"Computer Animation\", \"/m/02hmvc\"...   \n",
       "22                               {\"/m/07s9rl0\": \"Drama\"}   \n",
       "23     {\"/m/02kdv5l\": \"Action\", \"/m/07s9rl0\": \"Drama\"...   \n",
       "24     {\"/m/07s9rl0\": \"Drama\", \"/m/0jtdp\": \"Documenta...   \n",
       "25                               {\"/m/07s9rl0\": \"Drama\"}   \n",
       "27     {\"/m/02hmvc\": \"Short Film\", \"/m/01z4y\": \"Comed...   \n",
       "28     {\"/m/02l7c8\": \"Romance Film\", \"/m/05p553\": \"Co...   \n",
       "29     {\"/m/04t36\": \"Musical\", \"/m/02l7c8\": \"Romance ...   \n",
       "30     {\"/m/03g3w\": \"History\", \"/m/02l7c8\": \"Romance ...   \n",
       "...                                                  ...   \n",
       "42174  {\"/m/03btsm8\": \"Action/Adventure\", \"/m/02wtdps...   \n",
       "42175                            {\"/m/07s9rl0\": \"Drama\"}   \n",
       "42176  {\"/m/01z4y\": \"Comedy\", \"/m/0gw5qqq\": \"Chinese ...   \n",
       "42177  {\"/m/01jfsb\": \"Thriller\", \"/m/06n90\": \"Science...   \n",
       "42178  {\"/m/04t36\": \"Musical\", \"/m/07s9rl0\": \"Drama\",...   \n",
       "42179                        {\"/m/02hmvc\": \"Short Film\"}   \n",
       "42180                            {\"/m/07s9rl0\": \"Drama\"}   \n",
       "42181                    {\"/m/06cvj\": \"Romantic comedy\"}   \n",
       "42182  {\"/m/04t36\": \"Musical\", \"/m/03q4nz\": \"World ci...   \n",
       "42183                        {\"/m/0jtdp\": \"Documentary\"}   \n",
       "42184  {\"/m/0hn10\": \"LGBT\", \"/m/01jfsb\": \"Thriller\", ...   \n",
       "42185  {\"/m/06cvj\": \"Romantic comedy\", \"/m/0hj3n0w\": ...   \n",
       "42186   {\"/m/07s9rl0\": \"Drama\", \"/m/02n4lw\": \"Art film\"}   \n",
       "42187                            {\"/m/0hfjk\": \"Western\"}   \n",
       "42188                           {\"/m/02kdv5l\": \"Action\"}   \n",
       "42189    {\"/m/02kdv5l\": \"Action\", \"/m/07s9rl0\": \"Drama\"}   \n",
       "42190  {\"/m/04xvlr\": \"Period piece\", \"/m/07s9rl0\": \"D...   \n",
       "42191    {\"/m/02kdv5l\": \"Action\", \"/m/07s9rl0\": \"Drama\"}   \n",
       "42192  {\"/m/0gf28\": \"Parody\", \"/m/0219x_\": \"Indie\", \"...   \n",
       "42193  {\"/m/06n90\": \"Science Fiction\", \"/m/0hj3n2k\": ...   \n",
       "42194  {\"/m/01jfsb\": \"Thriller\", \"/m/06n90\": \"Science...   \n",
       "42195  {\"/m/0jb4p32\": \"Zombie Film\", \"/m/03npn\": \"Hor...   \n",
       "42196                             {\"/m/03npn\": \"Horror\"}   \n",
       "42197  {\"/m/068d7h\": \"Romantic drama\", \"/m/02l7c8\": \"...   \n",
       "42198    {\"/m/01z4y\": \"Comedy\", \"/m/09q17\": \"Slapstick\"}   \n",
       "42199                        {\"/m/0bj8m2\": \"Children's\"}   \n",
       "42200  {\"/m/06ppq\": \"Silent film\", \"/m/0219x_\": \"Indi...   \n",
       "42201  {\"/m/02hmvc\": \"Short Film\", \"/m/04rlf\": \"Music...   \n",
       "42202                            {\"/m/07s9rl0\": \"Drama\"}   \n",
       "42203                             {\"/m/01z4y\": \"Comedy\"}   \n",
       "\n",
       "                                              genres_new  \n",
       "0                                  [Drama, World cinema]  \n",
       "1      [Action/Adventure, Science Fiction, Action, Dr...  \n",
       "2                    [Musical, Action, Drama, Bollywood]  \n",
       "3                             [Screwball comedy, Comedy]  \n",
       "4      [Crime Fiction, Drama, Docudrama, World cinema...  \n",
       "5            [Thriller, Action/Adventure, Action, Drama]  \n",
       "6                              [Thriller, Drama, Horror]  \n",
       "7                                          [Drama, Teen]  \n",
       "8      [Romantic comedy, Media Satire, Americana, Com...  \n",
       "9                   [Short Film, Family Film, Animation]  \n",
       "10                                              [Comedy]  \n",
       "11          [Crime Fiction, Drama, Comedy, World cinema]  \n",
       "12                                      [Parody, Comedy]  \n",
       "13     [War film, Epic, Action/Adventure, Period piec...  \n",
       "14                   [Cult, Coming of age, Comedy, Teen]  \n",
       "15                                              [Horror]  \n",
       "16     [Thriller, Mystery, Comedy film, Crime Fiction...  \n",
       "17                                               [Drama]  \n",
       "18     [Thriller, Crime Fiction, Indie, Martial Arts ...  \n",
       "19                          [Period piece, Drama, Indie]  \n",
       "20                                     [Drama, War film]  \n",
       "21     [Computer Animation, Short Film, Family Film, ...  \n",
       "22                                               [Drama]  \n",
       "23                            [Action, Drama, Adventure]  \n",
       "24                                  [Drama, Documentary]  \n",
       "25                                               [Drama]  \n",
       "27                 [Short Film, Comedy, Black-and-white]  \n",
       "28                           [Romance Film, Comedy film]  \n",
       "29            [Musical, Romance Film, Comedy, Bollywood]  \n",
       "30     [History, Romance Film, Action, Drama, Adventure]  \n",
       "...                                                  ...  \n",
       "42174  [Action/Adventure, Crime Thriller, Action, Cri...  \n",
       "42175                                            [Drama]  \n",
       "42176                           [Comedy, Chinese Movies]  \n",
       "42177  [Thriller, Science Fiction, Adventure, Superna...  \n",
       "42178                      [Musical, Drama, Family Film]  \n",
       "42179                                       [Short Film]  \n",
       "42180                                            [Drama]  \n",
       "42181                                  [Romantic comedy]  \n",
       "42182                            [Musical, World cinema]  \n",
       "42183                                      [Documentary]  \n",
       "42184     [LGBT, Thriller, Erotic Drama, Drama, Erotica]  \n",
       "42185  [Romantic comedy, Ensemble Film, Comedy of man...  \n",
       "42186                                  [Drama, Art film]  \n",
       "42187                                          [Western]  \n",
       "42188                                           [Action]  \n",
       "42189                                    [Action, Drama]  \n",
       "42190         [Period piece, Drama, Indie, World cinema]  \n",
       "42191                                    [Action, Drama]  \n",
       "42192  [Parody, Indie, Absurdism, Action Comedy, Shor...  \n",
       "42193    [Science Fiction, Fantasy Adventure, Adventure]  \n",
       "42194  [Thriller, Science Fiction, Japanese Movies, W...  \n",
       "42195         [Zombie Film, Horror, Indie, Teen, Comedy]  \n",
       "42196                                           [Horror]  \n",
       "42197  [Romantic drama, Romance Film, Drama, World ci...  \n",
       "42198                                [Comedy, Slapstick]  \n",
       "42199                                       [Children's]  \n",
       "42200  [Silent film, Indie, Black-and-white, Period p...  \n",
       "42201  [Short Film, Music, Biographical film, Documen...  \n",
       "42202                                            [Drama]  \n",
       "42203                                           [Comedy]  \n",
       "\n",
       "[41793 rows x 5 columns]"
      ]
     },
     "execution_count": 58,
     "metadata": {},
     "output_type": "execute_result"
    }
   ],
   "source": [
    "movies_new"
   ]
  },
  {
   "cell_type": "code",
   "execution_count": 27,
   "metadata": {},
   "outputs": [],
   "source": [
    "#list of different genres \n",
    "all_genre = sum(genres,[])\n"
   ]
  },
  {
   "cell_type": "code",
   "execution_count": 28,
   "metadata": {},
   "outputs": [
    {
     "data": {
      "text/plain": [
       "363"
      ]
     },
     "execution_count": 28,
     "metadata": {},
     "output_type": "execute_result"
    }
   ],
   "source": [
    "len(set(all_genre))"
   ]
  },
  {
   "cell_type": "code",
   "execution_count": 29,
   "metadata": {},
   "outputs": [],
   "source": [
    "all_genre = nltk.FreqDist(all_genre)"
   ]
  },
  {
   "cell_type": "code",
   "execution_count": 30,
   "metadata": {},
   "outputs": [
    {
     "data": {
      "text/plain": [
       "[('Drama', 19134),\n",
       " ('Comedy', 10467),\n",
       " ('Romance Film', 6666),\n",
       " ('Thriller', 6530),\n",
       " ('Action', 5868),\n",
       " ('World cinema', 5153),\n",
       " ('Crime Fiction', 4275),\n",
       " ('Horror', 4082),\n",
       " ('Black-and-white', 3731),\n",
       " ('Indie', 3668),\n",
       " ('Action/Adventure', 3553),\n",
       " ('Adventure', 3248),\n",
       " ('Family Film', 3219),\n",
       " ('Short Film', 3192),\n",
       " ('Romantic drama', 2572)]"
      ]
     },
     "execution_count": 30,
     "metadata": {},
     "output_type": "execute_result"
    }
   ],
   "source": [
    "all_genre.most_common(15)"
   ]
  },
  {
   "cell_type": "code",
   "execution_count": 59,
   "metadata": {},
   "outputs": [],
   "source": [
    "#plot the genre vs count\n",
    "#create dataframe\n",
    "all_genre_df = pd.DataFrame({'Genre':list(all_genre.keys()),'Count':list(all_genre.values())})"
   ]
  },
  {
   "cell_type": "code",
   "execution_count": 60,
   "metadata": {},
   "outputs": [],
   "source": [
    "Genre= list(all_genre.keys())\n",
    "Count = list(all_genre.values())"
   ]
  },
  {
   "cell_type": "code",
   "execution_count": 61,
   "metadata": {},
   "outputs": [],
   "source": [
    "g = all_genre_df.nlargest(n=50,columns='Count')#gives top 50 "
   ]
  },
  {
   "cell_type": "code",
   "execution_count": 62,
   "metadata": {},
   "outputs": [
    {
     "data": {
      "text/plain": [
       "<matplotlib.axes._subplots.AxesSubplot at 0x7d3fd35940>"
      ]
     },
     "execution_count": 62,
     "metadata": {},
     "output_type": "execute_result"
    },
    {
     "data": {
      "image/png": "[encoded data removed]",
      "text/plain": [
       "<Figure size 864x1080 with 1 Axes>"
      ]
     },
     "metadata": {
      "needs_background": "light"
     },
     "output_type": "display_data"
    }
   ],
   "source": [
    "plt.figure(figsize=(12,15))\n",
    "sns.barplot(data = g,y='Genre',x='Count')\n"
   ]
  },
  {
   "cell_type": "code",
   "execution_count": 41,
   "metadata": {},
   "outputs": [],
   "source": [
    "import re"
   ]
  },
  {
   "cell_type": "code",
   "execution_count": 63,
   "metadata": {},
   "outputs": [],
   "source": [
    "#clean text in plots\n",
    "def clean_text(text):\n",
    "    # remove backslash-apostrophe \n",
    "    text = re.sub(\"\\'\", \"\", text) \n",
    "    # remove everything except alphabets \n",
    "    text = re.sub(\"[^a-zA-Z]\",\" \",text) \n",
    "    # remove whitespaces \n",
    "    text = ' '.join(text.split()) \n",
    "    # convert text to lowercase \n",
    "    text = text.lower() \n",
    "    \n",
    "    return text\n",
    "    "
   ]
  },
  {
   "cell_type": "code",
   "execution_count": 64,
   "metadata": {},
   "outputs": [
    {
     "name": "stderr",
     "output_type": "stream",
     "text": [
      "C:\\Users\\asinha\\AppData\\Local\\Continuum\\anaconda3\\lib\\site-packages\\ipykernel_launcher.py:1: SettingWithCopyWarning: \n",
      "A value is trying to be set on a copy of a slice from a DataFrame.\n",
      "Try using .loc[row_indexer,col_indexer] = value instead\n",
      "\n",
      "See the caveats in the documentation: http://pandas.pydata.org/pandas-docs/stable/indexing.html#indexing-view-versus-copy\n",
      "  \"\"\"Entry point for launching an IPython kernel.\n"
     ]
    }
   ],
   "source": [
    "movies_new['clean_plot'] = movies_new['plot'].apply(lambda x:clean_text(x))"
   ]
  },
  {
   "cell_type": "code",
   "execution_count": 52,
   "metadata": {},
   "outputs": [
    {
     "data": {
      "text/plain": [
       "0    None\n",
       "1    None\n",
       "2    None\n",
       "3    None\n",
       "4    None\n",
       "Name: clean_plot, dtype: object"
      ]
     },
     "execution_count": 52,
     "metadata": {},
     "output_type": "execute_result"
    }
   ],
   "source": [
    "movies_new['clean_plot'].head()"
   ]
  },
  {
   "cell_type": "code",
   "execution_count": 45,
   "metadata": {},
   "outputs": [],
   "source": [
    "#remove stop words\n",
    "from nltk.corpus import stopwords\n",
    "stop_words = set(stopwords.words('english'))"
   ]
  },
  {
   "cell_type": "code",
   "execution_count": 68,
   "metadata": {},
   "outputs": [
    {
     "name": "stderr",
     "output_type": "stream",
     "text": [
      "C:\\Users\\asinha\\AppData\\Local\\Continuum\\anaconda3\\lib\\site-packages\\pandas\\core\\frame.py:3697: SettingWithCopyWarning: \n",
      "A value is trying to be set on a copy of a slice from a DataFrame\n",
      "\n",
      "See the caveats in the documentation: http://pandas.pydata.org/pandas-docs/stable/indexing.html#indexing-view-versus-copy\n",
      "  errors=errors)\n"
     ]
    }
   ],
   "source": [
    "movies_new.drop(labels=['genre','plot'],axis=1,inplace=True)"
   ]
  },
  {
   "cell_type": "code",
   "execution_count": 65,
   "metadata": {},
   "outputs": [],
   "source": [
    "#function to remove stop words\n",
    "def filter_stopwords(text):\n",
    "    filter_plot = [w for w in text.split() if not w in stop_words]\n",
    "    \n",
    "    return ' '.join(filter_plot)"
   ]
  },
  {
   "cell_type": "code",
   "execution_count": 66,
   "metadata": {},
   "outputs": [
    {
     "name": "stderr",
     "output_type": "stream",
     "text": [
      "C:\\Users\\asinha\\AppData\\Local\\Continuum\\anaconda3\\lib\\site-packages\\ipykernel_launcher.py:1: SettingWithCopyWarning: \n",
      "A value is trying to be set on a copy of a slice from a DataFrame.\n",
      "Try using .loc[row_indexer,col_indexer] = value instead\n",
      "\n",
      "See the caveats in the documentation: http://pandas.pydata.org/pandas-docs/stable/indexing.html#indexing-view-versus-copy\n",
      "  \"\"\"Entry point for launching an IPython kernel.\n"
     ]
    }
   ],
   "source": [
    "movies_new['clean_plot'] = movies_new['clean_plot'].apply(lambda x:filter_stopwords(x))"
   ]
  },
  {
   "cell_type": "code",
   "execution_count": 75,
   "metadata": {},
   "outputs": [],
   "source": [
    "#movies_new['clean_plot']"
   ]
  },
  {
   "cell_type": "code",
   "execution_count": 79,
   "metadata": {},
   "outputs": [],
   "source": [
    "def freq_words(x):\n",
    "    all_words = ' '.join([text for text in x])\n",
    "    all_words = all_words.split()\n",
    "    fdist = nltk.FreqDist(all_words)\n",
    "    \n",
    "    words_df = pd.DataFrame({'words':list(fdist.keys()),'count':list(fdist.values())})\n",
    "    \n",
    "    \n",
    "    return fdist.most_common(20)\n",
    "    "
   ]
  },
  {
   "cell_type": "code",
   "execution_count": 80,
   "metadata": {},
   "outputs": [
    {
     "data": {
      "text/plain": [
       "[('one', 31947),\n",
       " ('back', 24380),\n",
       " ('two', 22025),\n",
       " ('film', 20384),\n",
       " ('tells', 18938),\n",
       " ('man', 18846),\n",
       " ('father', 18615),\n",
       " ('time', 18124),\n",
       " ('life', 17530),\n",
       " ('new', 17240),\n",
       " ('love', 17140),\n",
       " ('get', 17020),\n",
       " ('home', 16754),\n",
       " ('also', 16149),\n",
       " ('find', 16008),\n",
       " ('house', 15924),\n",
       " ('however', 15915),\n",
       " ('finds', 15586),\n",
       " ('family', 15509),\n",
       " ('later', 15459)]"
      ]
     },
     "execution_count": 80,
     "metadata": {},
     "output_type": "execute_result"
    }
   ],
   "source": [
    "freq_words(movies_new['clean_plot'])#most common words"
   ]
  },
  {
   "cell_type": "code",
   "execution_count": 90,
   "metadata": {},
   "outputs": [],
   "source": [
    "from sklearn.preprocessing import MultiLabelBinarizer\n",
    "\n",
    "multilabel_binarizer = MultiLabelBinarizer()\n",
    "multilabel_binarizer.fit(movies_new['genres_new'])\n",
    "\n",
    "# transform target variable\n",
    "y = multilabel_binarizer.transform(movies_new['genres_new'])"
   ]
  },
  {
   "cell_type": "code",
   "execution_count": 92,
   "metadata": {},
   "outputs": [],
   "source": [
    "#tfdif feature extraction\n",
    "from sklearn.feature_extraction.text import TfidfVectorizer\n",
    "from sklearn.model_selection import train_test_split\n",
    "\n",
    "tfidf_vectorizer = TfidfVectorizer(max_df=0.8, max_features=10000)"
   ]
  },
  {
   "cell_type": "code",
   "execution_count": 93,
   "metadata": {},
   "outputs": [],
   "source": [
    "# transform target variable\n",
    "y = mb.transform(movies_new['genres_new'])\n",
    "# split dataset into training and validation set\n",
    "xtrain, xval, ytrain, yval = train_test_split(movies_new['clean_plot'], y, test_size=0.2, random_state=9)"
   ]
  },
  {
   "cell_type": "code",
   "execution_count": 95,
   "metadata": {},
   "outputs": [],
   "source": [
    "# create TF-IDF features\n",
    "xtrain_tfidf = tfidf_vectorizer.fit_transform(xtrain)\n",
    "xval_tfidf = tfidf_vectorizer.transform(xval)"
   ]
  },
  {
   "cell_type": "code",
   "execution_count": 96,
   "metadata": {},
   "outputs": [],
   "source": [
    "from sklearn.linear_model import LogisticRegression\n",
    "\n",
    "# Binary Relevance\n",
    "from sklearn.multiclass import OneVsRestClassifier\n",
    "\n",
    "# Performance metric\n",
    "from sklearn.metrics import f1_score"
   ]
  },
  {
   "cell_type": "code",
   "execution_count": 97,
   "metadata": {},
   "outputs": [],
   "source": [
    "lr = LogisticRegression()\n",
    "clf = OneVsRestClassifier(lr)"
   ]
  },
  {
   "cell_type": "code",
   "execution_count": 98,
   "metadata": {},
   "outputs": [
    {
     "name": "stderr",
     "output_type": "stream",
     "text": [
      "C:\\Users\\asinha\\AppData\\Local\\Continuum\\anaconda3\\lib\\site-packages\\sklearn\\multiclass.py:76: UserWarning: Label not 48 is present in all training examples.\n",
      "  str(classes[c]))\n",
      "C:\\Users\\asinha\\AppData\\Local\\Continuum\\anaconda3\\lib\\site-packages\\sklearn\\multiclass.py:76: UserWarning: Label not 182 is present in all training examples.\n",
      "  str(classes[c]))\n",
      "C:\\Users\\asinha\\AppData\\Local\\Continuum\\anaconda3\\lib\\site-packages\\sklearn\\multiclass.py:76: UserWarning: Label not 214 is present in all training examples.\n",
      "  str(classes[c]))\n",
      "C:\\Users\\asinha\\AppData\\Local\\Continuum\\anaconda3\\lib\\site-packages\\sklearn\\multiclass.py:76: UserWarning: Label not 245 is present in all training examples.\n",
      "  str(classes[c]))\n"
     ]
    },
    {
     "data": {
      "text/plain": [
       "OneVsRestClassifier(estimator=LogisticRegression(C=1.0, class_weight=None, dual=False, fit_intercept=True,\n",
       "          intercept_scaling=1, max_iter=100, multi_class='ovr', n_jobs=1,\n",
       "          penalty='l2', random_state=None, solver='liblinear', tol=0.0001,\n",
       "          verbose=0, warm_start=False),\n",
       "          n_jobs=1)"
      ]
     },
     "execution_count": 98,
     "metadata": {},
     "output_type": "execute_result"
    }
   ],
   "source": [
    "# fit model on train data\n",
    "clf.fit(xtrain_tfidf, ytrain)"
   ]
  },
  {
   "cell_type": "code",
   "execution_count": 99,
   "metadata": {},
   "outputs": [],
   "source": [
    "# make predictions for validation set\n",
    "y_pred = clf.predict(xval_tfidf)"
   ]
  },
  {
   "cell_type": "code",
   "execution_count": 102,
   "metadata": {},
   "outputs": [
    {
     "data": {
      "text/plain": [
       "array([[0, 0, 0, ..., 0, 0, 0],\n",
       "       [0, 0, 0, ..., 0, 0, 0],\n",
       "       [0, 0, 0, ..., 0, 0, 0],\n",
       "       ...,\n",
       "       [0, 0, 0, ..., 0, 0, 0],\n",
       "       [0, 0, 0, ..., 0, 0, 0],\n",
       "       [0, 0, 0, ..., 0, 0, 0]])"
      ]
     },
     "execution_count": 102,
     "metadata": {},
     "output_type": "execute_result"
    }
   ],
   "source": [
    "y_pred"
   ]
  },
  {
   "cell_type": "code",
   "execution_count": 101,
   "metadata": {},
   "outputs": [
    {
     "data": {
      "text/plain": [
       "('Action', 'Drama')"
      ]
     },
     "execution_count": 101,
     "metadata": {},
     "output_type": "execute_result"
    }
   ],
   "source": [
    "multilabel_binarizer.inverse_transform(y_pred)[3]"
   ]
  },
  {
   "cell_type": "code",
   "execution_count": 103,
   "metadata": {},
   "outputs": [
    {
     "data": {
      "text/plain": [
       "0.31540448604823657"
      ]
     },
     "execution_count": 103,
     "metadata": {},
     "output_type": "execute_result"
    }
   ],
   "source": [
    "# evaluate performance\n",
    "f1_score(yval, y_pred, average=\"micro\")"
   ]
  },
  {
   "cell_type": "code",
   "execution_count": 106,
   "metadata": {},
   "outputs": [],
   "source": [
    "# predict probabilities\n",
    "y_pred_prob = clf.predict_proba(xval_tfidf)"
   ]
  },
  {
   "cell_type": "code",
   "execution_count": 111,
   "metadata": {},
   "outputs": [],
   "source": [
    "t = 0.2 # threshold value\n",
    "y_pred_new = (y_pred_prob >= t).astype(int)"
   ]
  },
  {
   "cell_type": "code",
   "execution_count": 112,
   "metadata": {},
   "outputs": [
    {
     "data": {
      "text/plain": [
       "0.47014170040485825"
      ]
     },
     "execution_count": 112,
     "metadata": {},
     "output_type": "execute_result"
    }
   ],
   "source": [
    "# evaluate performance\n",
    "f1_score(yval, y_pred_new, average=\"micro\")"
   ]
  },
  {
   "cell_type": "code",
   "execution_count": 113,
   "metadata": {},
   "outputs": [],
   "source": [
    "# for new data\n",
    "def infer_tags(q):\n",
    "    q = clean_text(q)\n",
    "    q = filter_stopwords(q)\n",
    "    q_vec = tfidf_vectorizer.transform([q])\n",
    "    q_pred = clf.predict(q_vec)\n",
    "    return multilabel_binarizer.inverse_transform(q_pred)"
   ]
  },
  {
   "cell_type": "code",
   "execution_count": 118,
   "metadata": {},
   "outputs": [
    {
     "name": "stdout",
     "output_type": "stream",
     "text": [
      "Movie:  How to Rob a Bank \n",
      "Predicted genre:  [('Action', 'Thriller')]\n",
      "Actual genre:  ['Crime Fiction', 'Heist', 'Crime Comedy', 'Indie', 'Caper story', 'Action/Adventure', 'Comedy', 'Escape Film', 'Action'] \n",
      "\n",
      "Movie:  Truly, Madly, Deeply \n",
      "Predicted genre:  [('Drama',)]\n",
      "Actual genre:  ['Romantic comedy', 'Heaven-Can-Wait Fantasies', 'Fantasy', 'Comedy', 'Music', 'Drama', 'Romantic drama', 'Romance Film', 'Romantic fantasy'] \n",
      "\n",
      "Movie:  Who's Minding the Mint? \n",
      "Predicted genre:  [('Comedy',)]\n",
      "Actual genre:  ['Comedy of Errors', 'Comedy'] \n",
      "\n",
      "Movie:  The Great Mom Swap \n",
      "Predicted genre:  [('Drama',)]\n",
      "Actual genre:  ['Comedy-drama', 'Domestic Comedy', 'Comedy'] \n",
      "\n",
      "Movie:  Snow Cake \n",
      "Predicted genre:  [('Drama',)]\n",
      "Actual genre:  ['Drama', 'Indie'] \n",
      "\n"
     ]
    }
   ],
   "source": [
    "for i in range(5): \n",
    "    k = xval.sample(1).index[0] #random pick\n",
    "    print(\"Movie: \", movies_new['movie_name'][k], \"\\nPredicted genre: \", infer_tags(xval[k])), print(\"Actual genre: \",movies_new['genres_new'][k], \"\\n\")\n"
   ]
  },
  {
   "cell_type": "code",
   "execution_count": 120,
   "metadata": {},
   "outputs": [
    {
     "data": {
      "text/plain": [
       "33357"
      ]
     },
     "execution_count": 120,
     "metadata": {},
     "output_type": "execute_result"
    }
   ],
   "source": [
    "xval.sample(1).index[0]"
   ]
  },
  {
   "cell_type": "code",
   "execution_count": null,
   "metadata": {},
   "outputs": [],
   "source": []
  }
 ],
 "metadata": {
  "kernelspec": {
   "display_name": "Python 3",
   "language": "python",
   "name": "python3"
  },
  "language_info": {
   "codemirror_mode": {
    "name": "ipython",
    "version": 3
   },
   "file_extension": ".py",
   "mimetype": "text/x-python",
   "name": "python",
   "nbconvert_exporter": "python",
   "pygments_lexer": "ipython3",
   "version": "3.7.0"
  }
 },
 "nbformat": 4,
 "nbformat_minor": 2
}
